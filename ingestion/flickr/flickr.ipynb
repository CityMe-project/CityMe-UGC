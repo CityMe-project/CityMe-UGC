{
 "cells": [
  {
   "cell_type": "code",
   "execution_count": null,
   "id": "dc854797-0757-4353-9b2c-ebd359f7db64",
   "metadata": {},
   "outputs": [],
   "source": [
    "from flickrapi import FlickrAPI\n",
    "import pandas as pd\n",
    "import tqdm, time, glob\n",
    "from sqlalchemy import create_engine\n",
    "import geopandas as gpd\n",
    "from shapely.geometry import Point\n",
    "import geopandas as gpd\n",
    "\n",
    "FLICKR_PUBLIC = ''\n",
    "FLICKR_SECRET = ''\n",
    "\n",
    "flickr = FlickrAPI(FLICKR_PUBLIC, FLICKR_SECRET, format='parsed-json')\n",
    "extras='url_sq,url_t,url_s,url_q,url_m,url_n,url_z,url_c,url_l,url_o'"
   ]
  },
  {
   "cell_type": "code",
   "execution_count": null,
   "id": "9c2afce8-a3db-46e1-a3e3-920f781dc856",
   "metadata": {},
   "outputs": [],
   "source": [
    "df = gpd.read_file('./shapefiles_lisbon/lisbon_city.shp')\n",
    "df.to_crs(4326, inplace=True)\n",
    "bb=list(df.bounds.iloc[0])\n",
    "bb"
   ]
  },
  {
   "cell_type": "code",
   "execution_count": null,
   "id": "2685a260-1495-4623-adfa-1ae5ed881862",
   "metadata": {},
   "outputs": [],
   "source": [
    "date_start = '2015-01-01'\n",
    "date_end = '2022-03-20'\n",
    "start_page = 10\n",
    "end_page = 20\n",
    "per_page = 100\n",
    "\n",
    "df = pd.DataFrame(columns = ['flickr_id','title','desc','date','lat','lng','tags','locality','county','region','country','neighbourhood'])"
   ]
  },
  {
   "cell_type": "code",
   "execution_count": null,
   "id": "b1074ad4-d749-4c63-ae41-a62d0af2a41d",
   "metadata": {},
   "outputs": [],
   "source": [
    "for word in ['alfama','mouraria']:\n",
    "    for page_no in tqdm.tqdm(range(start_page, end_page)):\n",
    "\n",
    "        flickr_dict = flickr.photos.search(min_upload_date=date_start, \n",
    "                                       max_upload_date=date_end,\n",
    "                                       text=word, per_page=per_page, page=page_no,\n",
    "                                       bbox=[bb[1], bb[0], bb[3], bb[2]], \n",
    "                                       accuracy=16, content_type=7, has_geo=1)\n",
    "        time.sleep(10)\n",
    "        for flicker_post in flickr_dict['photos']['photo']:\n",
    "            photo = flickr.photos.getInfo(photo_id=flicker_post['id'])\n",
    "            time.sleep(5)\n",
    "            \n",
    "            if 'location' in photo['photo'].keys():\n",
    "                tag_content = []\n",
    "\n",
    "                for tag in photo['photo']['tags']['tag']:\n",
    "                    tag_content.append(tag['_content'])\n",
    "\n",
    "                tag_content = ','.join(tag_content)\n",
    "\n",
    "                df_row = [photo['photo']['id'],\n",
    "                photo['photo']['title']['_content'],\n",
    "                photo['photo']['description']['_content'],\n",
    "                photo['photo']['dates']['taken'].split(' ')[0],\n",
    "                photo['photo']['location']['latitude'],\n",
    "                photo['photo']['location']['longitude'],\n",
    "                tag_content]\n",
    "                \n",
    "                for location_key in ['locality','county','region','country','neighbourhood']:\n",
    "                    if location_key in photo['photo']['location'].keys():\n",
    "                        df_row.append(photo['photo']['location'][location_key]['_content'])\n",
    "                    else:\n",
    "                        df_row.append(None)\n",
    "                        \n",
    "                df.loc[len(df)] = df_row\n",
    "            else:\n",
    "                continue\n"
   ]
  },
  {
   "cell_type": "code",
   "execution_count": null,
   "id": "665c29b2-ea5f-463a-9c88-943b385aa002",
   "metadata": {},
   "outputs": [],
   "source": [
    "df.to_csv('./set_'+str(time.time()).split('.')[0]+'.csv', index=False)"
   ]
  },
  {
   "cell_type": "code",
   "execution_count": null,
   "id": "bdf9135c-aae6-49d7-984a-cce67b7bdd93",
   "metadata": {},
   "outputs": [],
   "source": [
    "table_name = \"\"\n",
    "database = \"\"\n",
    "user = \"postgres\"\n",
    "password = \"postgres\"\n",
    "port = str(5432)\n",
    "host = \"localhost\"\n",
    "\n",
    "engine = create_engine(\"postgresql://\"+user+\":\"+password+\"@\"+host+\":\"+port+\"/\"+database)\n",
    "\n",
    "def generate_geometry(x):\n",
    "    return Point(float(x['lat']), float(x['lng']))"
   ]
  },
  {
   "cell_type": "code",
   "execution_count": null,
   "id": "e6fac64b-0b5e-4216-8c0b-22e80de8db7f",
   "metadata": {},
   "outputs": [],
   "source": [
    "csv_files = glob.glob('set_*.csv')\n",
    "failed = []\n",
    "\n",
    "for fl_file in tqdm.tqdm(range(len(csv_files))):\n",
    "    \n",
    "    df = gpd.read_file('./set_1.csv')\n",
    "    df['geometry'] = df.apply(generate_geometry, axis=1)\n",
    "    df = df[df['geometry'].notna()]\n",
    "    df.set_geometry('geometry', inplace=True)\n",
    "    df.set_crs(epsg=4326, inplace=True, allow_override=True)\n",
    "    gpd.GeoDataFrame.to_postgis(df, name = table_name, con = engine, schema = 'public', if_exists = 'append')\n"
   ]
  },
  {
   "cell_type": "code",
   "execution_count": null,
   "id": "0d7f5d1b-5d35-4d79-aa52-da92e23e77a5",
   "metadata": {},
   "outputs": [],
   "source": []
  }
 ],
 "metadata": {
  "kernelspec": {
   "display_name": "Python 3 (ipykernel)",
   "language": "python",
   "name": "python3"
  },
  "language_info": {
   "codemirror_mode": {
    "name": "ipython",
    "version": 3
   },
   "file_extension": ".py",
   "mimetype": "text/x-python",
   "name": "python",
   "nbconvert_exporter": "python",
   "pygments_lexer": "ipython3",
   "version": "3.10.0"
  }
 },
 "nbformat": 4,
 "nbformat_minor": 5
}
