{
 "cells": [
  {
   "cell_type": "code",
   "execution_count": null,
   "metadata": {},
   "outputs": [],
   "source": [
    "import wikipedia\n",
    "import pandas as pd\n",
    "\n",
    "import json, glob, gc\n",
    "from pandas import json_normalize\n",
    "\n",
    "import psycopg2   \n",
    "from psycopg2 import Error\n",
    "import geopandas as gpd\n",
    "import numpy as np\n",
    "\n",
    "from tqdm import tqdm\n",
    "from shapely.geometry import LineString, Point\n",
    "from shapely.wkt import dumps, loads\n",
    "\n",
    "from sqlalchemy import create_engine\n",
    "import warnings\n",
    "warnings.filterwarnings('ignore')"
   ]
  },
  {
   "cell_type": "code",
   "execution_count": null,
   "metadata": {},
   "outputs": [],
   "source": [
    "# #first the english pages, set language to \"en\"\n",
    "wikipedia.set_lang(\"pt\")\n",
    "\n",
    "#geosearch in Lisbon - 411 pages with coordinates within radius for english, 320 for portuguese\n",
    "places = wikipedia.geosearch(38.736946,-9.142685, title=None, results=3000, radius=10000)\n",
    "\n",
    "#not very efficient way, getting information about each page\n",
    "geo = []\n",
    "content = []\n",
    "title = []\n",
    "for a in places:\n",
    "    try:\n",
    "        b = wikipedia.WikipediaPage(title=a)\n",
    "        geo.append(b.coordinates)\n",
    "        content.append(b.content)\n",
    "        title.append(b.title)\n",
    "    except:\n",
    "        continue\n",
    "    \n",
    "lat = []\n",
    "lon = []\n",
    "for a in geo:\n",
    "    lat.append(float(a[0]))\n",
    "    lon.append(float(a[1]))\n",
    "    \n",
    "#putting data into dataframe     \n",
    "df = pd.DataFrame(list(zip(title, lat, lon, content)), columns=['title', 'lat', 'lon', 'content'])\n",
    "\n",
    "#selecting those pages where the content contains the word \"Alfama\" = only 14\n",
    "df['content'] = wikipedia_pt['content'].apply(lambda x:x.lower())\n",
    "df['lang'] = 'pt'\n",
    "\n",
    "## Filter by keyword\n",
    "# df = wikipedia_pt[wikipedia_pt['content'].str.contains(\"alfama\")]\n"
   ]
  },
  {
   "cell_type": "code",
   "execution_count": null,
   "metadata": {},
   "outputs": [],
   "source": [
    "wikipedia_df_pt = wikipedia_pt.copy()\n",
    "df = pd.concat([wikipedia_df_pt, wikipedia_df])"
   ]
  },
  {
   "cell_type": "code",
   "execution_count": null,
   "metadata": {},
   "outputs": [],
   "source": [
    "table_name = \"\"\n",
    "database = \"\"\n",
    "user = \"postgres\"\n",
    "password = \"postgres\"\n",
    "port = str(5432)\n",
    "host = \"localhost\"\n",
    "\n",
    "engine = create_engine(\"postgresql://\"+user+\":\"+password+\"@\"+host+\":\"+port+\"/\"+database)\n",
    "\n",
    "def generate_geometry(x):\n",
    "    return Point(x['lon'], x['lat'])"
   ]
  },
  {
   "cell_type": "code",
   "execution_count": null,
   "metadata": {},
   "outputs": [],
   "source": [
    "df['geometry'] = df.apply(generate_geometry, axis=1)\n",
    "df = df[df['geometry'].notna()]\n",
    "\n",
    "gpd_wiki = gpd.GeoDataFrame(df, geometry='geometry')\n",
    "gpd_wiki.set_crs(epsg=4326, inplace=True, allow_override=True)\n",
    "gpd_wiki = gpd_wiki.__round__(10)\n",
    "\n",
    "gpd.GeoDataFrame.to_postgis(gpd_wiki.drop(['lat','lon'], axis=1), name = table_name, con = engine, schema = 'public', if_exists = 'append')"
   ]
  },
  {
   "cell_type": "code",
   "execution_count": null,
   "metadata": {},
   "outputs": [],
   "source": []
  },
  {
   "cell_type": "code",
   "execution_count": null,
   "metadata": {},
   "outputs": [],
   "source": []
  },
  {
   "cell_type": "code",
   "execution_count": null,
   "metadata": {},
   "outputs": [],
   "source": []
  },
  {
   "cell_type": "code",
   "execution_count": null,
   "metadata": {},
   "outputs": [],
   "source": [
    "## Create table in postgis and insert data\n"
   ]
  },
  {
   "cell_type": "code",
   "execution_count": null,
   "metadata": {},
   "outputs": [],
   "source": [
    "gpd_wiki[gpd_wiki['content'].str.contains(\"alfama\")]"
   ]
  },
  {
   "cell_type": "code",
   "execution_count": null,
   "metadata": {},
   "outputs": [],
   "source": []
  }
 ],
 "metadata": {
  "kernelspec": {
   "display_name": "Python 3 (ipykernel)",
   "language": "python",
   "name": "python3"
  },
  "language_info": {
   "codemirror_mode": {
    "name": "ipython",
    "version": 3
   },
   "file_extension": ".py",
   "mimetype": "text/x-python",
   "name": "python",
   "nbconvert_exporter": "python",
   "pygments_lexer": "ipython3",
   "version": "3.10.0"
  }
 },
 "nbformat": 4,
 "nbformat_minor": 4
}
