{
 "cells": [
  {
   "cell_type": "code",
   "execution_count": null,
   "id": "2428e635-242c-4a80-8990-78aea69af8ea",
   "metadata": {},
   "outputs": [],
   "source": [
    "import json, glob, gc\n",
    "import pandas as pd\n",
    "from pandas import json_normalize\n",
    "\n",
    "import psycopg2   \n",
    "from psycopg2 import Error\n",
    "import geopandas as gpd\n",
    "import numpy as np\n",
    "import pandas as pd\n",
    "\n",
    "from tqdm import tqdm\n",
    "from shapely.geometry import LineString, Point\n",
    "from shapely.wkt import dumps, loads\n",
    "\n",
    "from sqlalchemy import create_engine\n",
    "import warnings\n",
    "warnings.filterwarnings('ignore')"
   ]
  },
  {
   "cell_type": "code",
   "execution_count": null,
   "id": "a450e849-6e7d-4e03-b740-855d64cfba01",
   "metadata": {},
   "outputs": [],
   "source": [
    "table_name = \"\"\n",
    "database = \"\"\n",
    "user = \"postgres\"\n",
    "password = \"postgres\"\n",
    "port = str(5432)\n",
    "host = \"localhost\""
   ]
  },
  {
   "cell_type": "code",
   "execution_count": null,
   "id": "54f64a82-0727-4a35-855e-2d05da3f34ee",
   "metadata": {},
   "outputs": [],
   "source": [
    "engine = create_engine(\"postgresql://\"+user+\":\"+password+\"@\"+host+\":\"+port+\"/\"+database)\n",
    "\n",
    "def generate_geometry(x):\n",
    "    return loads(dumps(Point(x['lng'], x['lat']), rounding_precision=10))"
   ]
  },
  {
   "cell_type": "code",
   "execution_count": null,
   "id": "dbda2266-65ba-4714-8b99-e86ab3c13530",
   "metadata": {},
   "outputs": [],
   "source": [
    "csv_files = glob.glob('insta_hashtags*.csv')\n",
    "failed = []\n",
    "\n",
    "for insta_file in tqdm(range(len(csv_files))):\n",
    "    \n",
    "    try:\n",
    "        df = pd.read_csv(csv_files[insta_file])\n",
    "        df = df.drop_duplicates(subset=[\"caption_text\"], keep='first')\n",
    "\n",
    "        df['geometry'] = df.apply(generate_geometry, axis=1)\n",
    "        df = df[df['geometry'].notna()]\n",
    "\n",
    "        gpd_insta = gpd.GeoDataFrame(df, geometry='geometry')\n",
    "        gpd_insta.set_crs(epsg=4326, inplace=True, allow_override=True)\n",
    "        gpd_insta = gpd_insta.__round__(10)\n",
    "\n",
    "        ## Create table in postgis and insert data\n",
    "        gpd.GeoDataFrame.to_postgis(gpd_insta, name = table_name, con = engine, schema = 'public', if_exists = 'append')\n",
    "\n",
    "        del gpd_insta, df\n",
    "        gc.collect()\n",
    "    except:\n",
    "        failed.append(insta_file)\n",
    "        print(len(failed))\n",
    "        continue\n"
   ]
  },
  {
   "cell_type": "code",
   "execution_count": null,
   "id": "cd151263-d4d5-4a72-b943-ae118764f771",
   "metadata": {},
   "outputs": [],
   "source": []
  }
 ],
 "metadata": {
  "kernelspec": {
   "display_name": "Python 3 (ipykernel)",
   "language": "python",
   "name": "python3"
  },
  "language_info": {
   "codemirror_mode": {
    "name": "ipython",
    "version": 3
   },
   "file_extension": ".py",
   "mimetype": "text/x-python",
   "name": "python",
   "nbconvert_exporter": "python",
   "pygments_lexer": "ipython3",
   "version": "3.10.0"
  }
 },
 "nbformat": 4,
 "nbformat_minor": 5
}
