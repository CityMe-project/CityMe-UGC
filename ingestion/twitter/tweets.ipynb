{
 "cells": [
  {
   "cell_type": "code",
   "execution_count": null,
   "id": "fa798e98",
   "metadata": {},
   "outputs": [],
   "source": [
    "import json, glob, gc\n",
    "import pandas as pd\n",
    "from pandas import json_normalize\n",
    "\n",
    "import psycopg2   \n",
    "from psycopg2 import Error\n",
    "import geopandas as gpd\n",
    "import numpy as np\n",
    "import pandas as pd\n",
    "\n",
    "from tqdm import tqdm\n",
    "from shapely.geometry import LineString, Point\n",
    "from shapely.wkt import dumps, loads\n",
    "\n",
    "from sqlalchemy import create_engine\n",
    "import warnings\n",
    "warnings.filterwarnings('ignore')"
   ]
  },
  {
   "cell_type": "code",
   "execution_count": null,
   "id": "d2bb2fb8-3ef0-4597-b9f5-3a5afbab631b",
   "metadata": {},
   "outputs": [],
   "source": [
    "table_name = \"\"\n",
    "database = \"\"\n",
    "user = \"postgres\"\n",
    "password = \"postgres\"\n",
    "port = str(5432)\n",
    "host = \"localhost\""
   ]
  },
  {
   "cell_type": "code",
   "execution_count": null,
   "id": "561e6e78-9878-4ce6-9c47-5298eab5193a",
   "metadata": {},
   "outputs": [],
   "source": [
    "engine = create_engine(\"postgresql://\"+user+\":\"+password+\"@\"+host+\":\"+port+\"/\"+database)\n",
    "\n",
    "def generate_geometry(x):\n",
    "    \n",
    "    if type(x['coordinates.coordinates']) == list:\n",
    "        return loads(dumps(Point(x['coordinates.coordinates'][0], x['coordinates.coordinates'][1]), rounding_precision=10))\n",
    "    elif type(x['geo.bbox']) == list:\n",
    "        return loads(dumps(LineString([x['geo.bbox'][:2], x['geo.bbox'][2:]]).centroid, rounding_precision=10))\n",
    "    else:\n",
    "        return None"
   ]
  },
  {
   "cell_type": "code",
   "execution_count": null,
   "id": "5b6e8467-cbc2-4db4-8fb0-2b944fddc666",
   "metadata": {},
   "outputs": [],
   "source": [
    "json_files = glob.glob('twitter_data*.json')\n",
    "failed = []\n",
    "\n",
    "for twitter_file in tqdm(range(len(json_files))):\n",
    "    \n",
    "    try:\n",
    "        df = pd.read_json(json_files[twitter_file], lines=True)\n",
    "        df = pd.concat([df, json_normalize(df['geo'])], axis=1).drop(['geo'], axis=1)\n",
    "        df = df.loc[:,~df.columns.duplicated()]\n",
    "        \n",
    "        df = df[['id', 'text', 'created_at', 'author_id', 'source', 'author', 'place_id',\n",
    "       'country', 'full_name', 'country_code', 'name', 'geo.type', 'geo.bbox',\n",
    "       'coordinates.type', 'coordinates.coordinates']]\n",
    "        \n",
    "        df = df.drop_duplicates(subset=[\"text\"], keep='first')\n",
    "\n",
    "        df['geometry'] = df.apply(generate_geometry, axis=1)\n",
    "        df = df[df['geometry'].notna()]\n",
    "\n",
    "        gpd_tweets = gpd.GeoDataFrame(df, geometry='geometry')\n",
    "        gpd_tweets.set_crs(epsg=4326, inplace=True, allow_override=True)\n",
    "        gpd_tweets = gpd_tweets.__round__(10)\n",
    "\n",
    "        ## Create table in postgis and insert data\n",
    "        gpd.GeoDataFrame.to_postgis(gpd_tweets, name = table_name, con = engine, schema = 'public', if_exists = 'append')\n",
    "\n",
    "        del gpd_tweets, df\n",
    "        gc.collect()\n",
    "    except:\n",
    "        failed.append(twitter_file)\n",
    "        print(len(failed))\n",
    "        continue\n"
   ]
  },
  {
   "cell_type": "code",
   "execution_count": null,
   "id": "025ccfd7-7e55-4852-b3cf-377764b24b47",
   "metadata": {},
   "outputs": [],
   "source": []
  }
 ],
 "metadata": {
  "kernelspec": {
   "display_name": "Python 3 (ipykernel)",
   "language": "python",
   "name": "python3"
  },
  "language_info": {
   "codemirror_mode": {
    "name": "ipython",
    "version": 3
   },
   "file_extension": ".py",
   "mimetype": "text/x-python",
   "name": "python",
   "nbconvert_exporter": "python",
   "pygments_lexer": "ipython3",
   "version": "3.10.0"
  }
 },
 "nbformat": 4,
 "nbformat_minor": 5
}
