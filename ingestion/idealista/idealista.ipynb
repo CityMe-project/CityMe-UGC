{
 "cells": [
  {
   "cell_type": "code",
   "execution_count": null,
   "id": "bb104059-15a7-47e3-8b3c-61ff0079cbde",
   "metadata": {},
   "outputs": [],
   "source": [
    "import pandas as pd\n",
    "import json\n",
    "import urllib\n",
    "import requests as rq\n",
    "import base64\n",
    "import httplib2\n",
    "\n",
    "import ast, json\n",
    "import pandas as pd\n",
    "import warnings\n",
    "from pandas import json_normalize\n",
    "\n",
    "import psycopg2   \n",
    "from psycopg2 import Error\n",
    "import geopandas as gpd\n",
    "import numpy as np\n",
    "\n",
    "from tqdm import tqdm\n",
    "from shapely.geometry import LineString, Point\n",
    "from shapely.wkt import dumps, loads\n",
    "\n",
    "from sqlalchemy import create_engine\n",
    "import warnings\n",
    "warnings.filterwarnings('ignore')\n",
    "\n",
    "listings = pd.DataFrame()"
   ]
  },
  {
   "cell_type": "code",
   "execution_count": null,
   "id": "626fca51-77ba-47d0-a8f7-7e9488ed8c8e",
   "metadata": {},
   "outputs": [],
   "source": [
    "def get_oauth_token():\n",
    "    http_obj = httplib2.Http()\n",
    "    url = \"https://api.idealista.com/oauth/token\"\n",
    "    apikey= urllib.parse.quote_plus('__apikey__')\n",
    "    secret= urllib.parse.quote_plus('__secret__')\n",
    "    param = str(apikey + ':' + secret).encode()\n",
    "    auth = base64.b64encode(param)\n",
    "    body = {'grant_type':'client_credentials'}\n",
    "    headers = {'Content-Type': 'application/x-www-form-urlencoded;charset=UTF-8','Authorization' : 'Basic ' + auth.decode()}\n",
    "    resp, content = http_obj.request(url,method='POST',headers=headers, body=urllib.parse.urlencode(body))\n",
    "    return eval(content.decode())['access_token']"
   ]
  },
  {
   "cell_type": "code",
   "execution_count": null,
   "id": "7ee8a19b-3629-4e7d-9264-f71ff06d4397",
   "metadata": {},
   "outputs": [],
   "source": [
    "def search_api(token, type_listing, page, operation):\n",
    "    http_obj = httplib2.Http()\n",
    "    center = \"38.72623322072787,-9.14011001586914\"\n",
    "    url = \"https://api.idealista.com/3.5/pt/search?center=\"+center+\"&operation=\"+operation+\"&propertyType=\"+type_listing+\"&distance=5000&maxItems=50&numPage=\"+str(page)\n",
    "    headers = {'Authorization' : 'Bearer ' + token}\n",
    "    resp, content = http_obj.request(url,method='POST',headers=headers)\n",
    "    \n",
    "    return content.decode()"
   ]
  },
  {
   "cell_type": "code",
   "execution_count": null,
   "id": "57575768-1e92-4868-b430-ab650a81ef46",
   "metadata": {},
   "outputs": [],
   "source": [
    "rows = json.loads(search_api(get_oauth_token(), 'garages', 2, 'rent'))"
   ]
  },
  {
   "cell_type": "code",
   "execution_count": null,
   "id": "6797f52f-897c-44b1-aa8f-b4f76c052f8d",
   "metadata": {},
   "outputs": [],
   "source": [
    "for i in range(len(rows['elementList'])):\n",
    "\n",
    "    df = pd.DataFrame.from_dict(rows['elementList'][i], orient='index').transpose()\n",
    "    df = pd.concat([df, json_normalize(df['detailedType'])], axis=1).drop(['detailedType'], axis=1)\n",
    "    df = pd.concat([df, json_normalize(df['suggestedTexts'])], axis=1).drop(['suggestedTexts'], axis=1)\n",
    "    listings = listings.append(df)\n",
    "    \n"
   ]
  },
  {
   "cell_type": "code",
   "execution_count": null,
   "id": "183f2513-e6ef-4d15-986d-d7377c4ee503",
   "metadata": {},
   "outputs": [],
   "source": [
    "listings = listings.drop_duplicates(subset=[\"propertyCode\"], keep='first')"
   ]
  },
  {
   "cell_type": "code",
   "execution_count": null,
   "id": "aa184374-f58b-4c9b-8ca2-6f6854b1a0e3",
   "metadata": {},
   "outputs": [],
   "source": [
    "table_name = \"\"\n",
    "database = \"\"\n",
    "user = \"postgres\"\n",
    "password = \"postgres\"\n",
    "port = str(5433)\n",
    "host = \"localhost\"\n",
    "\n",
    "engine = create_engine(\"postgresql://\"+user+\":\"+password+\"@\"+host+\":\"+port+\"/\"+database)\n",
    "\n",
    "def generate_geometry(x):\n",
    "    return loads(dumps(Point(x['longitude'], x['latitude']), rounding_precision=10))"
   ]
  },
  {
   "cell_type": "code",
   "execution_count": null,
   "id": "3cbcd445-dbef-474c-b2e5-b40a16be0f8c",
   "metadata": {},
   "outputs": [],
   "source": [
    "listings['geometry'] = listings.apply(generate_geometry, axis=1)\n",
    "listings = listings[listings['geometry'].notna()]\n",
    "\n",
    "gpd_insta = gpd.GeoDataFrame(listings, geometry='geometry')\n",
    "gpd_insta.set_crs(epsg=4326, inplace=True, allow_override=True)\n",
    "gpd_insta = gpd_insta.__round__(10)\n",
    "\n",
    "## Create table in postgis and insert data\n",
    "gpd.GeoDataFrame.to_postgis(gpd_insta, name = table_name, con = engine, schema = 'public', if_exists = 'append')"
   ]
  },
  {
   "cell_type": "code",
   "execution_count": null,
   "id": "0fbb6710-97d0-434f-8cc7-5a64e11621c3",
   "metadata": {},
   "outputs": [],
   "source": []
  }
 ],
 "metadata": {
  "kernelspec": {
   "display_name": "Python 3 (ipykernel)",
   "language": "python",
   "name": "python3"
  },
  "language_info": {
   "codemirror_mode": {
    "name": "ipython",
    "version": 3
   },
   "file_extension": ".py",
   "mimetype": "text/x-python",
   "name": "python",
   "nbconvert_exporter": "python",
   "pygments_lexer": "ipython3",
   "version": "3.10.0"
  }
 },
 "nbformat": 4,
 "nbformat_minor": 5
}
