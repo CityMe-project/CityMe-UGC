{
 "cells": [
  {
   "cell_type": "code",
   "execution_count": null,
   "metadata": {},
   "outputs": [],
   "source": [
    "import os\n",
    "import cv2\n",
    "import dlib\n",
    "import numpy as np\n",
    "import argparse\n",
    "from contextlib import contextmanager\n",
    "from keras.utils.data_utils import get_file\n",
    "import csv\n",
    "import sys, tqdm\n",
    "import pandas as pd\n",
    "sys.path.append(r'./age-gender/')\n",
    "from wide_resnet import WideResNet\n",
    "\n",
    "import warnings\n",
    "warnings.filterwarnings('ignore')\n",
    "\n",
    "from sklearn.metrics.pairwise import cosine_similarity\n",
    "import math\n",
    "import re, tqdm\n",
    "from collections import Counter"
   ]
  },
  {
   "cell_type": "code",
   "execution_count": null,
   "metadata": {},
   "outputs": [],
   "source": [
    "pretrained_model = r\"./weights.29-3.76_utk.hdf5\"\n",
    "modhash = 'fbe63257a054c1c5466cfd7bf14646d6'\n",
    "\n",
    "images = os.listdir(r\"./input_images/\")\n",
    "images = [\"./input_images/\"+name for name in images]\n",
    "\n",
    "class MyImage:\n",
    "    def __init__(self, img_name):\n",
    "        self.img = cv2.imread(img_name)\n",
    "        self.__name = img_name\n",
    "\n",
    "    def __str__(self):\n",
    "        return self.__name"
   ]
  },
  {
   "cell_type": "code",
   "execution_count": null,
   "metadata": {},
   "outputs": [],
   "source": [
    "def draw_label(image, point, label, font=cv2.FONT_HERSHEY_SIMPLEX,\n",
    "               font_scale=1, thickness=2):\n",
    "    size = cv2.getTextSize(label, font, font_scale, thickness)[0]\n",
    "    x, y = point\n",
    "    cv2.rectangle(image, (x, y - size[1]), (x + size[0], y), (255, 0, 0), cv2.FILLED)\n",
    "    cv2.putText(image, label, point, font, font_scale, (255, 255, 255), thickness)\n",
    "\n",
    "\n",
    "def yield_images():\n",
    "    for img in images:\n",
    "        yield(MyImage(img))"
   ]
  },
  {
   "cell_type": "code",
   "execution_count": null,
   "metadata": {},
   "outputs": [],
   "source": [
    "depth = 16\n",
    "k = 8\n",
    "weight_file = pretrained_model\n",
    "margin = 0.4\n",
    "\n",
    "# for face detection\n",
    "detector = dlib.get_frontal_face_detector()\n",
    "\n",
    "# load model and weights\n",
    "img_size = 64\n",
    "model = WideResNet(img_size, depth=depth, k=k)()\n",
    "model.load_weights(pretrained_model)"
   ]
  },
  {
   "cell_type": "code",
   "execution_count": null,
   "metadata": {
    "tags": []
   },
   "outputs": [],
   "source": [
    "results_df = pd.DataFrame()\n",
    "failed = []\n",
    "\n",
    "for img in tqdm.tqdm(yield_images()):\n",
    "    name = str(img)\n",
    "    img = img.img\n",
    "    \n",
    "    try:\n",
    "        input_img = cv2.cvtColor(img, cv2.COLOR_BGR2RGB)\n",
    "    except:\n",
    "        failed.append(img)\n",
    "        continue\n",
    "    \n",
    "    img_h, img_w, _ = np.shape(input_img)\n",
    "    \n",
    "    # detect faces using dlib detector\n",
    "    detected = detector(input_img, 1)\n",
    "    faces = np.empty((len(detected), img_size, img_size, 3))\n",
    "    \n",
    "    if len(detected) > 0:\n",
    "        for i, d in enumerate(detected):\n",
    "            x1, y1, x2, y2, w, h = d.left(), d.top(), d.right() + 1, d.bottom() + 1, d.width(), d.height()\n",
    "            xw1 = max(int(x1 - margin * w), 0)\n",
    "            yw1 = max(int(y1 - margin * h), 0)\n",
    "            xw2 = min(int(x2 + margin * w), img_w - 1)\n",
    "            yw2 = min(int(y2 + margin * h), img_h - 1)\n",
    "            cv2.rectangle(img, (x1, y1), (x2, y2), (255, 0, 0), 2)\n",
    "            # cv2.rectangle(img, (xw1, yw1), (xw2, yw2), (255, 0, 0), 2)\n",
    "            faces[i, :, :, :] = cv2.resize(img[yw1:yw2 + 1, xw1:xw2 + 1, :], (img_size, img_size))\n",
    "\n",
    "        # predict ages and genders of the detected faces\n",
    "        results = model.predict(faces)\n",
    "        predicted_genders = results[0]\n",
    "        ages = np.arange(0, 101).reshape(101, 1)\n",
    "        predicted_ages = results[1].dot(ages).flatten()\n",
    "\n",
    "        gender = \"F\" if predicted_genders[0][0] > 0.5 else \"M\"\n",
    "\n",
    "        results_df = results_df.append([[name.split('/')[-1], int(predicted_ages[0]), gender]])"
   ]
  },
  {
   "cell_type": "code",
   "execution_count": null,
   "metadata": {},
   "outputs": [],
   "source": [
    "results_df.shape"
   ]
  },
  {
   "cell_type": "code",
   "execution_count": null,
   "metadata": {},
   "outputs": [],
   "source": [
    "results_df.head()"
   ]
  },
  {
   "cell_type": "code",
   "execution_count": null,
   "metadata": {},
   "outputs": [],
   "source": [
    "## Join your input data with the age/gender columns"
   ]
  },
  {
   "cell_type": "code",
   "execution_count": null,
   "metadata": {},
   "outputs": [],
   "source": [
    "results_df.to_csv('./age_gender.csv', index=False)"
   ]
  },
  {
   "cell_type": "code",
   "execution_count": null,
   "metadata": {},
   "outputs": [],
   "source": [
    "names = pd.read_csv('./Lista_de_nomes_2017_11.csv')\n",
    "names.head()"
   ]
  },
  {
   "cell_type": "code",
   "execution_count": null,
   "metadata": {},
   "outputs": [],
   "source": [
    "results=pd.read_csv('./age_gender.csv')\n",
    "results['is_portuguese_name'] = 0\n",
    "results['name'] = results['fname'] +' '+results['lname']\n",
    "results.head()"
   ]
  },
  {
   "cell_type": "code",
   "execution_count": null,
   "metadata": {},
   "outputs": [],
   "source": [
    "WORD = re.compile(r\"\\w+\")\n",
    "\n",
    "def get_cosine(vec1, vec2):\n",
    "    intersection = set(vec1.keys()) & set(vec2.keys())\n",
    "    numerator = sum([vec1[x] * vec2[x] for x in intersection])\n",
    "\n",
    "    sum1 = sum([vec1[x] ** 2 for x in list(vec1.keys())])\n",
    "    sum2 = sum([vec2[x] ** 2 for x in list(vec2.keys())])\n",
    "    denominator = math.sqrt(sum1) * math.sqrt(sum2)\n",
    "\n",
    "    if not denominator:\n",
    "        return 0.0\n",
    "    else:\n",
    "        return float(numerator) / denominator\n",
    "\n",
    "def text_to_vector(text):\n",
    "    words = WORD.findall(text.lower())\n",
    "    return Counter(words)\n",
    "\n",
    "for i in tqdm.tqdm(range(results.shape[0])):\n",
    "    for j in range(names.shape[0]):\n",
    "        try:\n",
    "            if get_cosine(text_to_vector(results.loc[i,'name']), text_to_vector(names.loc[j, 'name'])) > 0.1:\n",
    "                results.loc[i,'is_portuguese_name'] = 1\n",
    "        except:\n",
    "            pass"
   ]
  },
  {
   "cell_type": "code",
   "execution_count": null,
   "metadata": {},
   "outputs": [],
   "source": [
    "results['location_type'] = None\n",
    "portugal_list = ['abrantes', 'águeda', 'aguiar da beira', 'alandroal', 'albergaria-a-velha', 'albufeira', 'alcácer do sal', 'alcanena', 'alcobaça', 'alcochete', 'alcoutim', 'alenquer', 'alfândega da fé', 'alijó', 'aljezur', 'aljustrel', 'almada', 'almeida', 'almeirim', 'almodôvar', 'alpiarça', 'alter do chão', 'alvaiázere', 'alvito', 'amadora', 'amarante', 'amares', 'anadia', 'angra do heroísmo', 'ansião', 'arcos de valdevez', 'arganil', 'armamar', 'arouca', 'arraiolos', 'arronches', 'arruda dos vinhos', 'aveiro', 'avis', 'azambuja', 'baião', 'barcelos', 'barrancos', 'barreiro', 'batalha', 'beja', 'belmonte', 'benavente', 'bombarral', 'borba', 'boticas', 'braga', 'bragança', 'cabeceiras de basto', 'cadaval', 'caldas da rainha', 'calheta (madeira)', 'calheta (são jorge)', 'caminha', 'campo maior', 'cantanhede', 'carrazeda de ansiães', 'carregal do sal', 'cartaxo', 'cascais', 'castanheira de pêra', 'castelo branco', 'castelo de paiva', 'castelo de vide', 'castro daire', 'castro marim', 'castro verde', 'celorico da beira', 'celorico de basto', 'chamusca', 'chaves', 'cinfães', 'coimbra', 'condeixa-a-nova', 'constância', 'coruche', 'corvo', 'covilhã', 'crato', 'cuba', 'câmara de lobos', 'elvas', 'entroncamento', 'espinho', 'esposende', 'estarreja', 'estremoz', 'évora', 'fafe', 'faro', 'felgueiras', 'ferreira do alentejo', 'ferreira do zêzere', 'figueira da foz', 'figueira de castelo rodrigo', 'figueiró dos vinhos', 'fornos de algodres', 'freixo de espada à cinta', 'fronteira', 'funchal', 'fundão', 'gavião', 'golegã', 'gondomar', 'gouveia', 'grândola', 'guarda', 'guimarães', 'góis', 'horta', 'idanha-a-nova', 'ílhavo', 'lagoa (algarve)', 'lagoa (são miguel)', 'lagos', 'lajes das flores', 'lajes do pico', 'lamego', 'leiria', 'lisboa', 'loulé', 'loures', 'lourinhã', 'lousã', 'lousada', 'mação', 'macedo de cavaleiros', 'machico', 'madalena', 'mafra', 'maia', 'mangualde', 'manteigas', 'marco de canaveses', 'marinha grande', 'marvão', 'matosinhos', 'mealhada', 'meda', 'melgaço', 'mesão frio', 'mira', 'miranda do corvo', 'miranda do douro', 'mirandela', 'mogadouro', 'moimenta da beira', 'moita', 'monção', 'monchique', 'mondim de basto', 'monforte', 'montalegre', 'montemor-o-novo', 'montemor-o-velho', 'montijo', 'mora', 'mortágua', 'moura', 'mourão', 'murça', 'murtosa', 'mértola', 'nazaré', 'nelas', 'nisa', 'nordeste', 'óbidos', 'odemira', 'odivelas', 'oeiras', 'oleiros', 'olhão', 'oliveira de azeméis', 'oliveira de frades', 'oliveira do bairro', 'oliveira do hospital', 'ourique', 'ourém', 'ovar', 'paços de ferreira', 'palmela', 'pampilhosa da serra', 'paredes', 'paredes de coura', 'pedrógão grande', 'penacova', 'penafiel', 'penalva do castelo', 'penamacor', 'penedono', 'penela', 'peniche', 'peso da régua', 'pinhel', 'pombal', 'ponta delgada', 'ponta do sol', 'ponte da barca', 'ponte de lima', 'ponte de sor', 'portalegre', 'portel', 'portimão', 'porto', 'porto moniz', 'porto santo', 'porto de mós', 'povoação', 'praia da vitória', 'proença-a-nova', 'póvoa de lanhoso', 'póvoa de varzim', 'redondo', 'reguengos de monsaraz', 'resende', 'ribeira brava', 'ribeira grande', 'ribeira de pena', 'rio maior', 'sabrosa', 'sabugal', 'salvaterra de magos', 'santa comba dão', 'santa cruz', 'santa cruz da graciosa', 'santa cruz das flores', 'santa maria da feira', 'santa marta de penaguião', 'santana', 'santarém', 'santiago do cacém', 'santo tirso', 'são brás de alportel', 'são joão da madeira', 'são joão da pesqueira', 'são pedro do sul', 'são roque do pico', 'são vicente', 'sardoal', 'sátão', 'seia', 'seixal', 'sernancelhe', 'serpa', 'sertã', 'sesimbra', 'setúbal', 'sever do vouga', 'silves', 'sines', 'sintra', 'sobral de monte agraço', 'soure', 'sousel', 'tábua', 'tabuaço', 'tarouca', 'tavira', 'terras de bouro', 'tomar', 'tondela', 'torre de moncorvo', 'torres novas', 'torres vedras', 'trancoso', 'trofa', 'vagos', 'vale de cambra', 'valença', 'valongo', 'valpaços', 'velas', 'vendas novas', 'viana do alentejo', 'viana do castelo', 'vidigueira', 'vieira do minho', 'vila flor', 'vila franca de xira', 'vila franca do campo', 'vila nova da barquinha', 'vila nova de cerveira', 'vila nova de famalicão', 'vila nova de foz côa', 'vila nova de gaia', 'vila nova de paiva', 'vila nova de poiares', 'vila pouca de aguiar', 'vila real', 'vila real de santo antónio', 'vila velha de ródão', 'vila verde', 'vila viçosa', 'vila de rei', 'vila do bispo', 'vila do conde', 'vila do porto', 'vimioso', 'vinhais', 'viseu', 'vizela', 'vouzela']\n",
    "lisbon_list = ['alcochete','almada','barreiro','amadora','cascais','lisboa','loures','mafra','moita','montijo','odivelas','oeiras','palmela','seixal','sintra','sesimbra','setúbal e vila franca de xira','lsibon']"
   ]
  },
  {
   "cell_type": "code",
   "execution_count": null,
   "metadata": {},
   "outputs": [],
   "source": [
    "for i in tqdm.tqdm(range(results.shape[0])):\n",
    "    try:\n",
    "        location = WORD.findall(results.loc[i,'region'].lower())\n",
    "        if 'lisboa' in location or 'lisbon' in location:\n",
    "            results.loc[i,'location_type'] = 'lisbon'\n",
    "        else:\n",
    "            results.loc[i,'location_type'] = 'non_lisbon'\n",
    "    except:\n",
    "        results.loc[i,'location_type'] = 'non_lisbon'    "
   ]
  },
  {
   "cell_type": "code",
   "execution_count": null,
   "metadata": {},
   "outputs": [],
   "source": [
    "results.head()"
   ]
  },
  {
   "cell_type": "code",
   "execution_count": null,
   "metadata": {},
   "outputs": [],
   "source": [
    "results.to_csv('./socio_demographics.csv', index=False)"
   ]
  },
  {
   "cell_type": "code",
   "execution_count": null,
   "metadata": {},
   "outputs": [],
   "source": []
  }
 ],
 "metadata": {
  "interpreter": {
   "hash": "8a68b83b4c86f2f4193ecf03db6b54af0b45991250efb306f710d2edc07cf6c7"
  },
  "kernelspec": {
   "display_name": "Python 3 (ipykernel)",
   "language": "python",
   "name": "python3"
  },
  "language_info": {
   "codemirror_mode": {
    "name": "ipython",
    "version": 3
   },
   "file_extension": ".py",
   "mimetype": "text/x-python",
   "name": "python",
   "nbconvert_exporter": "python",
   "pygments_lexer": "ipython3",
   "version": "3.10.2"
  }
 },
 "nbformat": 4,
 "nbformat_minor": 4
}
